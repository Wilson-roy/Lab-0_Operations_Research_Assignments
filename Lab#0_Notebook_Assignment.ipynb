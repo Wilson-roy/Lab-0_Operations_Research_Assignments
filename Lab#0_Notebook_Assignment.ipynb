{
 "cells": [
  {
   "cell_type": "markdown",
   "id": "459c0973",
   "metadata": {},
   "source": [
    "# 📓 Jupyter Notebook Assignment (LAB #0)\n",
    "\n",
    "**Name:** Wilson Kumar Mahato \n",
    "**Course:** Operations Research (CPSMA-3933-01) \n",
    "**Assignment:** LAB #0"
   ]
  },
  {
   "cell_type": "markdown",
   "id": "fe533564",
   "metadata": {},
   "source": [
    "## 1) Favorite Function (Markdown)\n",
    "My favorite function is the factorial function, `n!`, because it shows up in many areas of math (combinatorics, probability, etc.).  \n",
    "I like how it grows so quickly and how it connects to permutations and binomial coefficients.\n",
    "### Examples of Factorials:\n",
    "- **0! = 1** (by definition)  \n",
    "- **1! = 1**  \n",
    "- **3! = 3 × 2 × 1 = 6**  \n",
    "- **5! = 5 × 4 × 3 × 2 × 1 = 120**  \n",
    "- Factorials grow very fast:  \n",
    "  - **7! = 5040**  \n",
    "  - **10! = 3,628,800**  \n"
   ]
  },
  {
   "cell_type": "markdown",
   "id": "220595dc",
   "metadata": {},
   "source": [
    "## 2) Define my own Python function"
   ]
  },
  {
   "cell_type": "code",
   "execution_count": 1,
   "id": "6bbd70a5",
   "metadata": {},
   "outputs": [],
   "source": [
    "def factorial(n):\n",
    "    \"\"\"Compute factorial of n.\"\"\"\n",
    "    if n == 0 or n == 1:\n",
    "        return 1\n",
    "    else:\n",
    "        return n * factorial(n-1)\n",
    "\n",
    "# Test with a few values\n",
    "print(factorial(5))  # 120\n",
    "print(factorial(7))  # 5040"
   ]
  },
  {
   "cell_type": "markdown",
   "id": "9ce4d06d",
   "metadata": {},
   "source": [
    "## 3) Create a list with at least 10 values\n",
    "I used Python's `random.randint` function to generate 10 integers between 1 and 100.  Each time I run the cell, it produces a different set of random numbers, which makes the list unique."
   ]
  },
  {
   "cell_type": "code",
   "execution_count": 2,
   "id": "ee4eddd4",
   "metadata": {},
   "outputs": [],
   "source": [
    "import random\n",
    "\n",
    "# Generate 10 random integers between 1 and 100\n",
    "values = [random.randint(1, 100) for _ in range(10)]\n",
    "\n",
    "# Describe how you got them (Markdown cell)\n",
    "# \"I generated the values using Python's random.randint function.\"\n",
    "\n",
    "print(\"Values:\", values)\n",
    "print(\"Sum:\", sum(values))\n",
    "print(\"Min:\", min(values))\n",
    "print(\"Max:\", max(values))\n",
    "\n",
    "# Another interesting value: average\n",
    "print(\"Average:\", sum(values)/len(values))"
   ]
  },
  {
   "cell_type": "markdown",
   "id": "f9ab8cfa",
   "metadata": {},
   "source": [
    "### Compute required summary values\n",
    "Compute the **sum**, **min**, **max**, and **one other value** . Below,I show mean as the other value."
   ]
  },
  {
   "cell_type": "code",
   "execution_count": 3,
   "id": "3c57843a",
   "metadata": {},
   "outputs": [],
   "source": [
    "summary = {\n",
    "    \"sum\": sum(nums),\n",
    "    \"min\": min(nums),\n",
    "    \"max\": max(nums),\n",
    "    \"mean\": round(statistics.mean(nums), 2),  # chosen 'other value'\n",
    "}\n",
    "\n",
    "print(\"Numbers:\", nums)\n",
    "print(\"Summary:\", summary)\n"
   ]
  }
 ],
 "metadata": {
  "kernelspec": {
   "display_name": "Python [conda env:base] *",
   "language": "python",
   "name": "conda-base-py"
  },
  "language_info": {
   "codemirror_mode": {
    "name": "ipython",
    "version": 3
   },
   "file_extension": ".py",
   "mimetype": "text/x-python",
   "name": "python",
   "nbconvert_exporter": "python",
   "pygments_lexer": "ipython3",
   "version": "3.12.7"
  }
 },
 "nbformat": 4,
 "nbformat_minor": 5
}
